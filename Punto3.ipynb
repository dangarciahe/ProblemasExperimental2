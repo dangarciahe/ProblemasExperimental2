{
 "cells": [
  {
   "cell_type": "code",
   "execution_count": 1,
   "id": "2da9d7a5",
   "metadata": {
    "ExecuteTime": {
     "end_time": "2022-11-27T17:15:57.745911Z",
     "start_time": "2022-11-27T17:15:55.969082Z"
    }
   },
   "outputs": [],
   "source": [
    "import numpy as np\n",
    "import pandas as pd\n",
    "import matplotlib.pyplot as plt"
   ]
  }
 ],
 "metadata": {
  "kernelspec": {
   "display_name": "Python 3 (ipykernel)",
   "language": "python",
   "name": "python3"
  },
  "language_info": {
   "codemirror_mode": {
    "name": "ipython",
    "version": 3
   },
   "file_extension": ".py",
   "mimetype": "text/x-python",
   "name": "python",
   "nbconvert_exporter": "python",
   "pygments_lexer": "ipython3",
   "version": "3.10.8"
  }
 },
 "nbformat": 4,
 "nbformat_minor": 5
}

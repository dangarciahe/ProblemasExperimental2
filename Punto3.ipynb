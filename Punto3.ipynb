{
 "cells": [
  {
   "cell_type": "code",
   "execution_count": 2,
   "metadata": {
    "ExecuteTime": {
     "end_time": "2022-11-27T18:08:41.611492Z",
     "start_time": "2022-11-27T18:08:41.581426Z"
    }
   },
   "outputs": [
    {
     "data": {
      "text/html": [
       "<div>\n",
       "<style scoped>\n",
       "    .dataframe tbody tr th:only-of-type {\n",
       "        vertical-align: middle;\n",
       "    }\n",
       "\n",
       "    .dataframe tbody tr th {\n",
       "        vertical-align: top;\n",
       "    }\n",
       "\n",
       "    .dataframe thead th {\n",
       "        text-align: right;\n",
       "    }\n",
       "</style>\n",
       "<table border=\"1\" class=\"dataframe\">\n",
       "  <thead>\n",
       "    <tr style=\"text-align: right;\">\n",
       "      <th></th>\n",
       "      <th>so(mm)</th>\n",
       "      <th>si1(mm)</th>\n",
       "      <th>si2(mm)</th>\n",
       "      <th>si3(mm)</th>\n",
       "    </tr>\n",
       "  </thead>\n",
       "  <tbody>\n",
       "    <tr>\n",
       "      <th>0</th>\n",
       "      <td>13.2</td>\n",
       "      <td>56.8</td>\n",
       "      <td>54.4</td>\n",
       "      <td>53.3</td>\n",
       "    </tr>\n",
       "    <tr>\n",
       "      <th>1</th>\n",
       "      <td>15.2</td>\n",
       "      <td>36.2</td>\n",
       "      <td>35.6</td>\n",
       "      <td>35.5</td>\n",
       "    </tr>\n",
       "    <tr>\n",
       "      <th>2</th>\n",
       "      <td>17.2</td>\n",
       "      <td>25.5</td>\n",
       "      <td>26.8</td>\n",
       "      <td>26.0</td>\n",
       "    </tr>\n",
       "    <tr>\n",
       "      <th>3</th>\n",
       "      <td>19.2</td>\n",
       "      <td>23.9</td>\n",
       "      <td>24.0</td>\n",
       "      <td>22.6</td>\n",
       "    </tr>\n",
       "    <tr>\n",
       "      <th>4</th>\n",
       "      <td>21.2</td>\n",
       "      <td>21.1</td>\n",
       "      <td>20.6</td>\n",
       "      <td>19.8</td>\n",
       "    </tr>\n",
       "    <tr>\n",
       "      <th>5</th>\n",
       "      <td>23.2</td>\n",
       "      <td>18.5</td>\n",
       "      <td>18.9</td>\n",
       "      <td>18.3</td>\n",
       "    </tr>\n",
       "    <tr>\n",
       "      <th>6</th>\n",
       "      <td>25.2</td>\n",
       "      <td>17.3</td>\n",
       "      <td>17.5</td>\n",
       "      <td>17.3</td>\n",
       "    </tr>\n",
       "  </tbody>\n",
       "</table>\n",
       "</div>"
      ],
      "text/plain": [
       "   so(mm)  si1(mm)  si2(mm)  si3(mm)\n",
       "0    13.2     56.8     54.4     53.3\n",
       "1    15.2     36.2     35.6     35.5\n",
       "2    17.2     25.5     26.8     26.0\n",
       "3    19.2     23.9     24.0     22.6\n",
       "4    21.2     21.1     20.6     19.8\n",
       "5    23.2     18.5     18.9     18.3\n",
       "6    25.2     17.3     17.5     17.3"
      ]
     },
     "execution_count": 2,
     "metadata": {},
     "output_type": "execute_result"
    }
   ],
   "source": [
    "import numpy as np\n",
    "import pandas as pd\n",
    "import matplotlib.pyplot as plt\n",
    "\n",
    "datos = pd.read_csv(\"data3.csv\")\n",
    "datos"
   ]
  },
  {
   "cell_type": "code",
   "execution_count": 39,
   "metadata": {
    "ExecuteTime": {
     "end_time": "2022-11-27T18:30:19.129600Z",
     "start_time": "2022-11-27T18:30:18.331312Z"
    }
   },
   "outputs": [
    {
     "data": {
      "image/png": "[encoded data removed]",
      "text/plain": [
       "<Figure size 612x504 with 2 Axes>"
      ]
     },
     "metadata": {
      "needs_background": "light"
     },
     "output_type": "display_data"
    }
   ],
   "source": [
    "plt.rcParams['text.usetex']=True\n",
    "fig = plt.figure(figsize=(8.5,7)) \n",
    "ax0 = fig.add_subplot(211)\n",
    "ax1 = fig.add_subplot(212)\n",
    "fig.subplots_adjust(hspace=0.4)\n",
    "\n",
    "labelpos = (datos[\"so(mm)\"][6] + datos[\"so(mm)\"][0])/2\n",
    " \n",
    "\n",
    "## 3.1\n",
    "for ii in range (3):\n",
    "    ax0.plot(datos[\"so(mm)\"], datos[f\"si{ii+1}(mm)\"], 'o-', label=f\"$s_{ii+1}$\", \\\n",
    "            markersize = 5)\n",
    "ax0.set_xlabel(r\"$s_0$ (mm)\", fontsize=12)\n",
    "ax0.set_ylabel(r\"$s_i$ (mm)\", fontsize=12)\n",
    "ax0.set_xticks(np.arange(14,26,2), fontsize=11)\n",
    "ax0.set_yticks(np.arange(20,60,10), fontsize=11)\n",
    "ax0.legend(fontsize=12)\n",
    "ax0.grid()\n",
    "\n",
    "\n",
    "\n",
    "## 3.2 y  3.3\n",
    "averages = []\n",
    "deviations = []\n",
    "for ii in range (len(datos[\"so(mm)\"])):\n",
    "    aux = []\n",
    "    for jj in range (1, 4):\n",
    "        aux.append(datos[f\"si{jj}(mm)\"][ii]) \n",
    "    averages.append(np.average(aux))\n",
    "    deviations.append(np.std(aux))\n",
    "    \n",
    "ax1.errorbar(datos[\"so(mm)\"], averages, yerr=deviations, marker='', ls='-')\n",
    "ax1.set_xticks(np.arange(14,26,2), fontsize=11)\n",
    "ax1.set_yticks(np.arange(20,60,10), fontsize=11)\n",
    "ax1.set_xlabel(r\"$s_0$ (mm)\", fontsize=12)\n",
    "ax1.set_ylabel(r\"$\\overline{s}_i$ (mm)\", fontsize=12)\n",
    "ax1.grid()\n",
    "\n",
    "ax0.text(labelpos, 52, (\"(a)\"),fontsize=15)\n",
    "ax1.text(labelpos, 52, (\"(b)\"),fontsize=15)\n",
    "\n",
    "plt.savefig(\"s0si.pdf\")\n",
    "plt.show()"
   ]
  },
  {
   "cell_type": "code",
   "execution_count": 64,
   "metadata": {},
   "outputs": [],
   "source": [
    "from scipy.optimize import curve_fit\n",
    "\n",
    "def lin(x,a1,a0):\n",
    "    return x*a1+a0\n",
    "\n",
    "x= 1/datos['so(mm)']\n",
    "y = 1/np.array(averages)\n",
    "y2 = y*y\n",
    "Dy = deviations*y2\n",
    "\n",
    "popt, pcov = curve_fit(lin, x, y, sigma=Dy)"
   ]
  },
  {
   "cell_type": "code",
   "execution_count": 65,
   "metadata": {},
   "outputs": [
    {
     "data": {
      "image/png": "[encoded data removed]",
      "text/plain": [
       "<Figure size 489.6x374.4 with 1 Axes>"
      ]
     },
     "metadata": {
      "needs_background": "light"
     },
     "output_type": "display_data"
    }
   ],
   "source": [
    "fig1 = plt.figure(figsize=(6.8, 5.2))\n",
    "plt.plot(x, lin(x,*popt), 'r')\n",
    "plt.errorbar(x, y,yerr=Dy, fmt='o', markersize=3, color='k')\n",
    "plt.yticks(np.arange(0.01, 0.06,0.01), fontsize=14)\n",
    "plt.xticks(np.arange(0.04, 0.08, 0.01), fontsize=14)\n",
    "plt.xlabel(r'$1/s_{o}$ (mm$^{-1}$)', fontsize=17)\n",
    "plt.ylabel(r'$1/\\bar{s}_{i}$ (mm$^{-1}$)', fontsize=17)\n",
    "plt.grid()\n",
    "plt.savefig('linsosi.pdf')"
   ]
  },
  {
   "cell_type": "code",
   "execution_count": 66,
   "metadata": {},
   "outputs": [
    {
     "name": "stdout",
     "output_type": "stream",
     "text": [
      "a0: 0.10170439819024175 +- 0.0011188431688042373\n",
      "a1: -1.114739445715219 +- 0.018967267372035714\n",
      "f: 9.832416471601 +- 0.10816574502030286\n"
     ]
    }
   ],
   "source": [
    "perr = np.sqrt(np.diag(pcov))\n",
    "f = 1/popt[1]\n",
    "Df = perr[1]/popt[1]**2\n",
    "print('a0:',popt[1], '+-', perr[1])\n",
    "print('a1:',popt[0], '+-', perr[0])\n",
    "print('f:', f, '+-', Df )"
   ]
  }
 ],
 "metadata": {
  "kernelspec": {
   "display_name": "Python 3",
   "language": "python",
   "name": "python3"
  },
  "language_info": {
   "codemirror_mode": {
    "name": "ipython",
    "version": 3
   },
   "file_extension": ".py",
   "mimetype": "text/x-python",
   "name": "python",
   "nbconvert_exporter": "python",
   "pygments_lexer": "ipython3",
   "version": "3.8.10"
  }
 },
 "nbformat": 4,
 "nbformat_minor": 5
}
